{
  "nbformat": 4,
  "nbformat_minor": 0,
  "metadata": {
    "colab": {
      "provenance": [],
      "toc_visible": true,
      "authorship_tag": "ABX9TyN+5Gvk5XKYeg+mTCQN15jv",
      "include_colab_link": true
    },
    "kernelspec": {
      "name": "python3",
      "display_name": "Python 3"
    },
    "language_info": {
      "name": "python"
    }
  },
  "cells": [
    {
      "cell_type": "markdown",
      "metadata": {
        "id": "view-in-github",
        "colab_type": "text"
      },
      "source": [
        "<a href=\"https://colab.research.google.com/github/ado0330/Collab-note/blob/main/W3_Lab_Material_.ipynb\" target=\"_parent\"><img src=\"https://colab.research.google.com/assets/colab-badge.svg\" alt=\"Open In Colab\"/></a>"
      ]
    },
    {
      "cell_type": "markdown",
      "source": [
        "# [filelink](https://elearning.usm.my/sidang2526/mod/resource/view.php?id=18880)"
      ],
      "metadata": {
        "id": "KXL02iFf8EHs"
      }
    },
    {
      "cell_type": "markdown",
      "source": [
        "# Question 1\n",
        "1. A bag of cookies holds 30 cookies. The calorie information on the bag claims there are 10\n",
        "\"servings\" in the bag and that a serving equals 300 calories. Write a program that asks the\n",
        "user to input how cookies as the input of the cookies he or she actually ate, then **report how\n",
        "many total calories were consumed**."
      ],
      "metadata": {
        "id": "92H5yV0fi07D"
      }
    },
    {
      "cell_type": "code",
      "execution_count": null,
      "metadata": {
        "id": "nBmF-VBCWy0v",
        "colab": {
          "base_uri": "https://localhost:8080/"
        },
        "outputId": "fbcd1c4d-91d7-48f4-d07c-5030d596a8bd"
      },
      "outputs": [
        {
          "output_type": "stream",
          "name": "stdout",
          "text": [
            "Writing Q1.cpp\n"
          ]
        }
      ],
      "source": [
        "%%writefile Q1.cpp\n",
        "\n",
        "//Calculate the total calories consumed based on input\n",
        "#include <iostream>\n",
        "using namespace std;\n",
        "\n",
        "int main() {\n",
        "  //Declare variables we need\n",
        "  const int cookies_per_bag = 30;\n",
        "  const int servings_per_bag = 10;\n",
        "  const int calories_per_servings = 300;\n",
        "\n",
        "  //Calcalate total Calories per Cookies\n",
        "  const double total_calories_per_cookies = (servings_per_bag * calories_per_servings) / cookies_per_bag;\n",
        "\n",
        "  //Get user input of numbers of cookies eaten\n",
        "  int cookiesEaten;\n",
        "  cout << \"Enter the numbers of cookies eaten: \";\n",
        "  cin >> cookiesEaten;\n",
        "\n",
        "  //Calculate total calories\n",
        "  double caloriesConsumed = total_calories_per_cookies * cookiesEaten;\n",
        "\n",
        "  //Display Output\n",
        "  cout << \"The calories consumed: \" << caloriesConsumed;\n",
        "\n",
        "\n",
        "}"
      ]
    },
    {
      "cell_type": "code",
      "source": [
        "%%shell\n",
        "\n",
        "g++ Q1.cpp -o Q1.elf\n",
        "./Q1.elf"
      ],
      "metadata": {
        "colab": {
          "base_uri": "https://localhost:8080/"
        },
        "id": "tGJ_xRIkiycA",
        "outputId": "12048e31-91ac-4954-cbad-6d34df51f3e6"
      },
      "execution_count": null,
      "outputs": [
        {
          "output_type": "stream",
          "name": "stdout",
          "text": [
            "Enter the numbers of cookies eaten: 4\n",
            "The calories consumed: 400"
          ]
        },
        {
          "output_type": "execute_result",
          "data": {
            "text/plain": []
          },
          "metadata": {},
          "execution_count": 4
        }
      ]
    },
    {
      "cell_type": "markdown",
      "source": [
        "# Question 2\n",
        "2. Write a program that calculates the average rainfall for three months. The program should\n",
        "ask the user to enter the name of each month such as June or July, and the amount of rain\n",
        "(in inches) that fell each month. The program should display a message similar to the\n",
        "following:\n",
        "The average rainfall for June, July and August is x.xx inches."
      ],
      "metadata": {
        "id": "Z-x3CYSFj6j3"
      }
    },
    {
      "cell_type": "code",
      "source": [
        "%%writefile q2.cpp\n",
        "\n",
        "//Calculate and Display average rainfall for three months based on input from user\n",
        "#include <iostream>\n",
        "using namespace std;\n",
        "\n",
        "int main() {\n",
        "//Declare variable\n",
        "string month1, month2, month3;\n",
        "double rainAmount1, rainAmount2, rainAmount3;\n",
        "double avgRainAmount;\n",
        "const int totalMonth = 3;\n",
        "\n",
        "//Get input of month1 and rainAmount1\n",
        "cout << \"Enter the first month: \" ;\n",
        "cin >> month1;\n",
        "cout << \"Enter amount of rainfall(in inches) for \" << month1 << \": \";\n",
        "cin >> rainAmount1;\n",
        "\n",
        "//Get input of month2 and rainAmount2\n",
        "cout << \"Enter the second month: \" ;\n",
        "cin >> month2;\n",
        "cout << \"Enter amount of rainfall(in inches) for \" << month2 << \": \";\n",
        "cin >> rainAmount2;\n",
        "\n",
        "//Get input of month3 and rainAmount3\n",
        "cout << \"Enter the third month: \" ;\n",
        "cin >> month3;\n",
        "cout << \"Enter amount of rainfall(in inches) for \" << month3 << \": \";\n",
        "cin >> rainAmount3;\n",
        "\n",
        "//Calculate average rainfall for three month\n",
        "avgRainAmount = (rainAmount1 + rainAmount2 + rainAmount3) / totalMonth;\n",
        "\n",
        "//Display output\n",
        "cout << \"The average rainfall for \" << month1 << \", \" << month2 << \" and \" << month3 << \" is \" << avgRainAmount << \" inches.\";\n",
        "\n",
        "}"
      ],
      "metadata": {
        "colab": {
          "base_uri": "https://localhost:8080/"
        },
        "id": "yXqyeVMfkFhw",
        "outputId": "40ae1a43-2660-4ba1-d852-832634a429dd"
      },
      "execution_count": null,
      "outputs": [
        {
          "output_type": "stream",
          "name": "stdout",
          "text": [
            "Overwriting q2.cpp\n"
          ]
        }
      ]
    },
    {
      "cell_type": "code",
      "source": [
        "%%shell\n",
        "\n",
        "g++ q2.cpp -o q2.elf\n",
        "./q2.elf"
      ],
      "metadata": {
        "colab": {
          "base_uri": "https://localhost:8080/"
        },
        "id": "ic0_6vMNmOzY",
        "outputId": "16e8907b-98ab-4461-af7c-be7c41b6edbc"
      },
      "execution_count": null,
      "outputs": [
        {
          "output_type": "stream",
          "name": "stdout",
          "text": [
            "Enter the first month: June\n",
            "Enter amount of rainfall(in inches) for June: 783.7\n",
            "Enter the second month: May\n",
            "Enter amount of rainfall(in inches) for May: 895\n",
            "Enter the third month: November\n",
            "Enter amount of rainfall(in inches) for November: 985.78\n",
            "The average rainfall for June, May andNovember is 888.16 inches."
          ]
        },
        {
          "output_type": "execute_result",
          "data": {
            "text/plain": []
          },
          "metadata": {},
          "execution_count": 13
        }
      ]
    },
    {
      "cell_type": "markdown",
      "source": [
        "#Question 3\n",
        "\n",
        "3.Malaysian identity card (IC) consists of 12 digit number in which, the first 6 digits represent the date of birth of a citizen in the following format: YYMMDDxxXXXX, and the next 6 digit x\n",
        "represents the ID with no specific meaning.\n",
        "\n",
        "Without using array, loop, conditions, substr function or any string manipulation\n",
        "function, **get the age of the IC owners** using what you have learned up until this week.\n",
        "\n",
        "Note: calculate based only on the year portion in the ID card. No need to consider the\n",
        "month.\n",
        "\n",
        "**Assumption: All IC cardholders were born earlier than the year 2000**"
      ],
      "metadata": {
        "id": "eC9gJ2f_ni8J"
      }
    },
    {
      "cell_type": "code",
      "source": [
        "%%writefile q3.cpp\n",
        "\n",
        "#include <iostream>\n",
        "using namespace std;\n",
        "\n",
        "int main() {\n",
        "\n",
        "  long long int icNumber; //Declare variable\n",
        "\n",
        "  const int year = 2025; //Now is year 2025\n",
        "\n",
        "  //Get input from user\n",
        "  cout << \"Enter your IC number: \";\n",
        "  cin >> icNumber;\n",
        "\n",
        "  int birthYear = (icNumber / 10000000000) + 1900; //Calcualte year of birth\n",
        "\n",
        "  int age = year - birthYear; //Calculate age based on year 2025\n",
        "\n",
        "  //Display output\n",
        "  cout << \"Your age is: \" << age;\n",
        "\n",
        "\n",
        "\n",
        "\n",
        "\n",
        "}"
      ],
      "metadata": {
        "colab": {
          "base_uri": "https://localhost:8080/"
        },
        "id": "qmRsNYxZol81",
        "outputId": "fb0e904f-98c2-42da-c0db-d0ea1cba6a62"
      },
      "execution_count": null,
      "outputs": [
        {
          "output_type": "stream",
          "name": "stdout",
          "text": [
            "Writing q3.cpp\n"
          ]
        }
      ]
    },
    {
      "cell_type": "code",
      "source": [
        "%%shell\n",
        "\n",
        "g++ q3.cpp -o q3.elf\n",
        "./q3.elf"
      ],
      "metadata": {
        "colab": {
          "base_uri": "https://localhost:8080/"
        },
        "id": "yiTD8vg7pssM",
        "outputId": "9457d98c-44d9-4904-80a2-99b96f8c9116"
      },
      "execution_count": null,
      "outputs": [
        {
          "output_type": "stream",
          "name": "stdout",
          "text": [
            "Enter your IC number: 100330020245\n",
            "Your age is: 115"
          ]
        },
        {
          "output_type": "execute_result",
          "data": {
            "text/plain": []
          },
          "metadata": {},
          "execution_count": 33
        }
      ]
    },
    {
      "cell_type": "markdown",
      "source": [
        "#Question 4\n",
        "\n",
        "As one goes higher up the mountains, the temperature decreases. The rate at which this\n",
        "occurs is called the lapse rate. The actual value depends on the humidity of the air. We can\n",
        "easily use the typical value of around **5°C/km or 2.7°F/1000ft**.\n",
        "\n",
        "Write a program that asks the user for the temperature at sea level in degrees Celcius and displays the following :\n",
        "\n",
        "The temperature at sea level (for reference) in Fahrenheit.\n",
        "\n",
        "The temperature at 1000, 2000 and 3000m\n",
        "\n",
        "The temperature at the top of Mount Everest (8848 m)\n",
        "\n",
        "The height at which the temperature is 0°C.\n",
        "\n",
        "As an additional exercise, show also the temperatures in degrees Fahrenheit and the height\n",
        "in feet. To convert temperatures in degrees Celcius to degrees Fahrenheit, multiply by 1.8\n",
        "(or 9/5) and add 32; to convert meters to feet, multiply by 3.28."
      ],
      "metadata": {
        "id": "0zaN685MrRLK"
      }
    },
    {
      "cell_type": "code",
      "source": [
        "%%writefile q4.cpp\n",
        "\n",
        "//\n",
        "#include <iostream>\n",
        "#include <iomanip>\n",
        "using namespace std;\n",
        "\n",
        "int main() {\n",
        "\n",
        "  double const lapseRateCM = 5.0 / 1000.0; //lapse rate for C/m\n",
        "  double const lapseRateFf = 2.7 / 1000.0; //lapse rate for F/f\n",
        "\n",
        "  //Declare variable\n",
        "  double sealvlTempC, sealvlTempF;\n",
        "\n",
        "  //Get input of temperature of sea level\n",
        "  cout << \"Enter the temperature at sea level in degrees Celcius: \";\n",
        "  cin >> sealvlTempC;\n",
        "\n",
        "  //Convert Celcius to Fahrenheit\n",
        "  sealvlTempF = (sealvlTempC * 1.8) + 32;\n",
        "\n",
        "  //Convert 1000m, 2000m, 3000m and topEverest to feet\n",
        "  double feet1 = 1000.00 * 3.28;\n",
        "  double feet2 = 2000.00 * 3.28;\n",
        "  double feet3 = 3000.00 * 3.28;\n",
        "  double feetTop = 8848.00 * 3.28;\n",
        "\n",
        "  //Calculate temp at 1000m, 2000m, 3000m and topEverest in degree Celcius\n",
        "  double tempC1 = sealvlTempC - (lapseRateCM * 1000);\n",
        "  double tempC2 = sealvlTempC - (lapseRateCM * 2000);\n",
        "  double tempC3 = sealvlTempC - (lapseRateCM * 3000);\n",
        "  double tempCTop = sealvlTempC - (lapseRateCM * 8848);\n",
        "\n",
        "  //Calculate temp at 1000m, 2000m, 3000m and topEverest in Fahrenheit\n",
        "  double tempF1 = (tempC1 * 1.8) + 32;\n",
        "  double tempF2 = (tempC2 * 1.8) + 32;\n",
        "  double tempF3 = (tempC3 * 1.8) + 32;\n",
        "  double tempFTop = (tempCTop * 1.8) + 32;\n",
        "\n",
        "  //Calculate height when 0 degreen Celcius\n",
        "  double zeroHeightM = sealvlTempC / lapseRateCM;\n",
        "  double zeroHeightFt = zeroHeightM * 3.28;\n",
        "\n",
        "  //Display output\n",
        "  cout << fixed << setprecision(2);\n",
        "  cout << \"The temperature at sea level is \" << sealvlTempC << \" C (\" << sealvlTempF << \" F).\" << endl;\n",
        "  cout << \"----------------------------------------------------------\" << endl;\n",
        "  cout << \"Height(m)\\tHeight(ft)\\tTemp(C)\\t\\tTemp(F)\" << endl;\n",
        "  cout << \"1000\\t\\t\" << feet1 << \"\\t\\t\" << tempC1 << \"\\t\\t\" << tempF1 << endl;\n",
        "  cout << \"2000\\t\\t\" << feet2 << \"\\t\\t\" << tempC2 << \"\\t\\t\" << tempF2 << endl;\n",
        "  cout << \"3000\\t\\t\" << feet3 << \"\\t\\t\" << tempC3 << \"\\t\\t\" << tempF3 << endl;\n",
        "  cout << \"----------------------------------------------------------\" << endl;\n",
        "  cout << \"The temperature at the top of Mount Everest (8848 m) is \" << tempCTop << \" C (\" << tempFTop << \" F).\" << endl;\n",
        "  cout << \"The height at which the temperature is 0 C is \" << zeroHeightM << \" m (\" << zeroHeightFt << \" ft).\" << endl;\n",
        "\n",
        "  return 0;\n",
        "}"
      ],
      "metadata": {
        "colab": {
          "base_uri": "https://localhost:8080/"
        },
        "id": "aWSs4pF6rthP",
        "outputId": "356fb4a6-d463-4665-fac8-7aeb112782a3"
      },
      "execution_count": null,
      "outputs": [
        {
          "output_type": "stream",
          "name": "stdout",
          "text": [
            "Overwriting q4.cpp\n"
          ]
        }
      ]
    },
    {
      "cell_type": "code",
      "source": [
        "%%shell\n",
        "\n",
        "g++ q4.cpp -o q4.elf\n",
        "./q4.elf"
      ],
      "metadata": {
        "colab": {
          "base_uri": "https://localhost:8080/"
        },
        "id": "EZnd8MPfwldt",
        "outputId": "e5242e41-8a62-4492-8d91-9623bb3af7ff"
      },
      "execution_count": null,
      "outputs": [
        {
          "output_type": "stream",
          "name": "stdout",
          "text": [
            "Enter the temperature at sea level in degrees Celcius: 25\n",
            "The temperature at sea level is 25.00 C (77.00 F).\n",
            "----------------------------------------------------------\n",
            "Height(m)\tHeight(ft)\tTemp(C)\t\tTemp(F)\n",
            "1000\t\t3280.00\t\t20.00\t\t68.00\n",
            "2000\t\t6560.00\t\t15.00\t\t59.00\n",
            "3000\t\t9840.00\t\t10.00\t\t50.00\n",
            "----------------------------------------------------------\n",
            "The temperature at the top of Mount Everest (8848 m) is -19.24 C (-2.63 F).\n",
            "The height at which the temperature is 0 C is 5000.00 m (16400.00 ft).\n"
          ]
        },
        {
          "output_type": "execute_result",
          "data": {
            "text/plain": []
          },
          "metadata": {},
          "execution_count": 37
        }
      ]
    },
    {
      "cell_type": "markdown",
      "source": [
        "# Question 5\n",
        "Last month Joe purchased some stock in Acme Software, Inc. Here are the details of the\n",
        "purchase:\n",
        "\n",
        "• The number of shares that Joe purchased was 1,000.\n",
        "\n",
        "• When Joe purchased the stock, he paid $45.50 per share.\n",
        "\n",
        "• Joe paid his stockbroker a commission that amounted to 2% of the amount he paid for the\n",
        "stock.\n",
        "\n",
        "Two weeks later Joe sold the stock. Here are the details of the sale:\n",
        "\n",
        "• The number of shares that Joe sold was 1,000.\n",
        "\n",
        "• He sold the stock for $56.90 per share.\n",
        "\n",
        "• He paid his stockbroker another commission that amounted to 2% of the amount he received for the stock.\n",
        "\n",
        "Write a program that displays the following information:\n",
        "\n",
        "• The amount of money Joe paid for the stock.\n",
        "\n",
        "• The amount of commission Joe paid his broker when he bought the stock.\n",
        "\n",
        "• The amount that Joe sold the stock for.\n",
        "\n",
        "• The amount of commission Joe paid his broker when he sold the stock.\n",
        "\n",
        "• Display the amount of profit that Joe made after selling his stock and paying the two commissions to his broker. (If the amount of profit that your program displays is a negative number, then Joe lost money on the transaction.)"
      ],
      "metadata": {
        "id": "BB8p_-al25p2"
      }
    },
    {
      "cell_type": "code",
      "source": [
        "%%writefile q5.cpp\n",
        "\n",
        "//Calculate profit of Joe\n",
        "#include <iostream>\n",
        "#include <iomanip>\n",
        "using namespace std;\n",
        "\n",
        "int main() {\n",
        "\n",
        "  int const sharesNumber = 1000; //numbers of shares purchased\n",
        "\n",
        "  double const buy_per_shares = 45.50; //price per share when purchased\n",
        "\n",
        "  double const sold_per_shares = 56.90; //price per share when sold\n",
        "\n",
        "  double const brokerComm = 0.02; //commision fee from broker\n",
        "\n",
        "\n",
        "  //Calculate total purchased based on number of shares and commision\n",
        "  double amountBuy = sharesNumber * buy_per_shares;\n",
        "  double commBuy = amountBuy * brokerComm;\n",
        "  double totalBuy = amountBuy + commBuy;\n",
        "\n",
        "  //Calculate total sold based on number of shares and commision\n",
        "  double amountSold = sharesNumber * sold_per_shares;\n",
        "  double commSold = amountSold * brokerComm;\n",
        "  double totalSold = amountSold - commSold;\n",
        "\n",
        "  //Calculate profit\n",
        "  double profit = totalSold - totalBuy;\n",
        "\n",
        "  //Display output\n",
        "  cout << fixed << setprecision(2);\n",
        "  cout << \"The amount of money Joe paid for the stock: $\" << amountBuy << endl;\n",
        "  cout << \"The amount of commission Joe paid his broker when he bought the stock: $\" << commBuy << endl;\n",
        "  cout << \"The amount that Joe sold the stock for: $\" << amountSold << endl;\n",
        "  cout << \"The amount of commission Joe paid his broker when he sold the stock: $\" << commSold << endl;\n",
        "  cout << \"----------------------------------------------------------------------------\" << endl;\n",
        "  cout << \"The profit is $\" << profit;\n",
        "\n",
        "\n",
        "}"
      ],
      "metadata": {
        "colab": {
          "base_uri": "https://localhost:8080/"
        },
        "id": "g7LnUzMh4r8b",
        "outputId": "128d8b57-4d1c-4c54-840f-7f1241f95fb9"
      },
      "execution_count": null,
      "outputs": [
        {
          "output_type": "stream",
          "name": "stdout",
          "text": [
            "Overwriting q5.cpp\n"
          ]
        }
      ]
    },
    {
      "cell_type": "code",
      "source": [
        "%%shell\n",
        "\n",
        "g++ q5.cpp -o q5.elf\n",
        "./q5.elf"
      ],
      "metadata": {
        "colab": {
          "base_uri": "https://localhost:8080/"
        },
        "id": "Jff21KmM8fTv",
        "outputId": "1f2785a1-ec78-4544-bc9b-95b0f778ebbc"
      },
      "execution_count": null,
      "outputs": [
        {
          "output_type": "stream",
          "name": "stdout",
          "text": [
            "The amount of money Joe paid for the stock: $45500.00\n",
            "The amount of commission Joe paid his broker when he bought the stock: $910.00\n",
            "The amount that Joe sold the stock for: $56900.00\n",
            "The amount of commission Joe paid his broker when he sold the stock: $1138.00\n",
            "----------------------------------------------------------------------------\n",
            "The profit is $9352.00"
          ]
        },
        {
          "output_type": "execute_result",
          "data": {
            "text/plain": []
          },
          "metadata": {},
          "execution_count": 32
        }
      ]
    }
  ]
}