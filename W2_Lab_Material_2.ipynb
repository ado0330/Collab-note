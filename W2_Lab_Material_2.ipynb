{
  "nbformat": 4,
  "nbformat_minor": 0,
  "metadata": {
    "colab": {
      "provenance": [],
      "authorship_tag": "ABX9TyOBTJ6SbMz0TMWGNKxsD8YH",
      "include_colab_link": true
    },
    "kernelspec": {
      "name": "python3",
      "display_name": "Python 3"
    },
    "language_info": {
      "name": "python"
    }
  },
  "cells": [
    {
      "cell_type": "markdown",
      "metadata": {
        "id": "view-in-github",
        "colab_type": "text"
      },
      "source": [
        "<a href=\"https://colab.research.google.com/github/ado0330/Collab-note/blob/main/W2_Lab_Material_2.ipynb\" target=\"_parent\"><img src=\"https://colab.research.google.com/assets/colab-badge.svg\" alt=\"Open In Colab\"/></a>"
      ]
    },
    {
      "cell_type": "markdown",
      "source": [
        "# [file link](https://elearning.usm.my/sidang2526/pluginfile.php/94092/mod_resource/content/2/Lab%20Material%202%20-%20Understanding%20Syntax.pdf)"
      ],
      "metadata": {
        "id": "Cnz5rlac8XBs"
      }
    },
    {
      "cell_type": "markdown",
      "source": [
        "# Question 7\n",
        "use of cmath directive"
      ],
      "metadata": {
        "id": "GOD3shV-86JL"
      }
    },
    {
      "cell_type": "code",
      "source": [
        "%%writefile q7.cpp\n",
        "\n",
        "#include <iostream>\n",
        "#include <cmath>\n",
        "\n",
        "using namespace std;\n",
        "\n",
        "int main() {\n",
        "\n",
        "  const double PI = 3.14159;\n",
        "  double area, radius;\n",
        "\n",
        "  cout << \"This program calculates the area of a circle.\\n\";\n",
        "  cout << \"What is the radius of the circle? \";\n",
        "  cin >> radius;\n",
        "  area = PI * pow(radius, 2.0); // area = (pi)r^2\n",
        "  cout << \"The area is \" << area << endl;\n",
        "\n",
        "  return 0;\n",
        "\n",
        "\n",
        "}"
      ],
      "metadata": {
        "colab": {
          "base_uri": "https://localhost:8080/"
        },
        "id": "SRsvfeo98gja",
        "outputId": "dbc2424c-8bc0-4506-b3bb-2e7c5f507834"
      },
      "execution_count": null,
      "outputs": [
        {
          "output_type": "stream",
          "name": "stdout",
          "text": [
            "Overwriting q7.cpp\n"
          ]
        }
      ]
    },
    {
      "cell_type": "code",
      "source": [
        "%%shell\n",
        "\n",
        "g++ q7.cpp -o q7.elf\n",
        "./q7.elf"
      ],
      "metadata": {
        "colab": {
          "base_uri": "https://localhost:8080/"
        },
        "id": "XYmLiHjO93TQ",
        "outputId": "be00197f-9d85-403e-c356-20d796ebc4a7"
      },
      "execution_count": null,
      "outputs": [
        {
          "output_type": "stream",
          "name": "stdout",
          "text": [
            "This program calculates the area of a circle.\n",
            "What is the radius of the circle? 1\n",
            "The area is 3.14159\n"
          ]
        },
        {
          "output_type": "execute_result",
          "data": {
            "text/plain": []
          },
          "metadata": {},
          "execution_count": 14
        }
      ]
    },
    {
      "cell_type": "markdown",
      "source": [
        "# Question 9"
      ],
      "metadata": {
        "id": "3_cMJLD7-ZQg"
      }
    },
    {
      "cell_type": "code",
      "source": [
        "%%writefile q9.cpp\n",
        "\n",
        "#include <iostream>\n",
        "using namespace std;\n",
        "\n",
        "int main() {\n",
        "\n",
        "  short int testVar = 32767;\n",
        "  cout << testVar << endl;\n",
        "\n",
        "  testVar += 1;\n",
        "  cout << testVar << endl;\n",
        "\n",
        "  testVar -= 1;\n",
        "  cout << testVar << endl;\n",
        "\n",
        "}"
      ],
      "metadata": {
        "colab": {
          "base_uri": "https://localhost:8080/"
        },
        "id": "Cy0vaY-q-nEQ",
        "outputId": "a1e49142-7be8-4992-ac64-a886b521f083"
      },
      "execution_count": null,
      "outputs": [
        {
          "output_type": "stream",
          "name": "stdout",
          "text": [
            "Writing q9.cpp\n"
          ]
        }
      ]
    },
    {
      "cell_type": "code",
      "source": [
        "%%shell\n",
        "\n",
        "g++ q9.cpp -o q9.elf\n",
        "./q9.elf\n"
      ],
      "metadata": {
        "colab": {
          "base_uri": "https://localhost:8080/"
        },
        "id": "Ydg63h8F_ANv",
        "outputId": "521c7ef6-f9c1-4474-db93-d0f50d06a2b0"
      },
      "execution_count": null,
      "outputs": [
        {
          "output_type": "stream",
          "name": "stdout",
          "text": [
            "32767\n",
            "-32768\n",
            "32767\n"
          ]
        },
        {
          "output_type": "execute_result",
          "data": {
            "text/plain": []
          },
          "metadata": {},
          "execution_count": 11
        }
      ]
    },
    {
      "cell_type": "markdown",
      "source": [
        "# Question 12\n",
        "**static_cast**\n",
        "\n",
        "use to change data type of the variable"
      ],
      "metadata": {
        "id": "_O8fHI9yAC-_"
      }
    },
    {
      "cell_type": "code",
      "source": [
        "%%writefile q12.cpp\n",
        "\n",
        "#include <iostream>\n",
        "using namespace std;\n",
        "\n",
        "int main() {\n",
        "  int number = 65;\n",
        "\n",
        "  cout << number << endl;\n",
        "\n",
        "  char letter = static_cast<char>(number); // Convert integer to character\n",
        "\n",
        "  cout << letter;\n",
        "\n",
        "\n",
        "}\n"
      ],
      "metadata": {
        "id": "xCwEzeUhAcWU",
        "colab": {
          "base_uri": "https://localhost:8080/"
        },
        "outputId": "abe7c887-4a38-4e43-e50b-f1465883da2d"
      },
      "execution_count": null,
      "outputs": [
        {
          "output_type": "stream",
          "name": "stdout",
          "text": [
            "Overwriting q12.cpp\n"
          ]
        }
      ]
    },
    {
      "cell_type": "code",
      "source": [
        "%%shell\n",
        "\n",
        "g++ q12.cpp -o run.elf\n",
        "./run.elf"
      ],
      "metadata": {
        "colab": {
          "base_uri": "https://localhost:8080/"
        },
        "id": "9_9KmyUPBA8_",
        "outputId": "212641b1-3a78-4d02-e844-4585a4ee1f2a"
      },
      "execution_count": null,
      "outputs": [
        {
          "output_type": "stream",
          "name": "stdout",
          "text": [
            "65\n",
            "A"
          ]
        },
        {
          "output_type": "execute_result",
          "data": {
            "text/plain": []
          },
          "metadata": {},
          "execution_count": 25
        }
      ]
    },
    {
      "cell_type": "markdown",
      "source": [
        "# Question 13"
      ],
      "metadata": {
        "id": "P1Nqb9iXBp2O"
      }
    },
    {
      "cell_type": "code",
      "source": [
        "%%writefile q13.cpp\n",
        "\n",
        "#include <iostream>\n",
        "#include <iomanip>\n",
        "using namespace std;\n",
        "\n",
        "int main() {\n",
        "\n",
        "  int num1 = 2897, num2 = 5,    num3 = 837,\n",
        "      num4 = 34,   num5 = 7,    num6 = 1623,\n",
        "      num7 = 390,  num8 = 3456, num9 = 12;\n",
        "\n",
        "      cout << left; //align to left\n",
        "\n",
        "      //Display the first row of number\n",
        "      cout << setw(6) << num1 << setw (6) << num2 << setw(6) << num3 << endl;\n",
        "\n",
        "      //Display the second row of number\n",
        "      cout << setw(6) << num4 << setw(6) << num5 << setw(6) << num6 << endl;\n",
        "\n",
        "      //Display the third row of number\n",
        "      cout << setw(6) << num7 << setw(6) << num8 << setw(6) << num9 << endl;\n",
        "\n",
        "}"
      ],
      "metadata": {
        "colab": {
          "base_uri": "https://localhost:8080/"
        },
        "id": "0TJO5wwjBwdy",
        "outputId": "e8ec8c2f-896e-4e66-8a50-0c7fb48aa7e5"
      },
      "execution_count": null,
      "outputs": [
        {
          "output_type": "stream",
          "name": "stdout",
          "text": [
            "Overwriting q13.cpp\n"
          ]
        }
      ]
    },
    {
      "cell_type": "code",
      "source": [
        "%%shell\n",
        "\n",
        "g++ q13.cpp -o run.elf\n",
        "./run.elf"
      ],
      "metadata": {
        "colab": {
          "base_uri": "https://localhost:8080/"
        },
        "id": "e8lUraDjClnB",
        "outputId": "52116269-651a-4a53-b950-34421da51d89"
      },
      "execution_count": null,
      "outputs": [
        {
          "output_type": "stream",
          "name": "stdout",
          "text": [
            "2897  5     837   \n",
            "34    7     1623  \n",
            "390   3456  12    \n"
          ]
        },
        {
          "output_type": "execute_result",
          "data": {
            "text/plain": []
          },
          "metadata": {},
          "execution_count": 59
        }
      ]
    },
    {
      "cell_type": "markdown",
      "source": [
        "# Question 14\n"
      ],
      "metadata": {
        "id": "zDqd6zJRFBzg"
      }
    },
    {
      "cell_type": "code",
      "source": [
        "%%writefile q14.cpp\n",
        "\n",
        "#include <iostream>\n",
        "#include <iomanip>\n",
        "\n",
        "using namespace std;\n",
        "\n",
        "int main() {\n",
        "\n",
        "  double quotient, number1 = 132.364, number2 = 26.91;\n",
        "  quotient = number1 / number2;\n",
        "\n",
        "  cout << quotient << endl;\n",
        "  cout << setprecision(5) << quotient << endl;\n",
        "  cout << setprecision(4) << quotient << endl;\n",
        "  cout << setprecision(3) << quotient << endl;\n",
        "  cout << setprecision(2) << quotient << endl;\n",
        "  cout << setprecision(1) << quotient << endl;\n",
        "  cout << setprecision(0) << quotient << endl;\n",
        "\n",
        "\n",
        "}\n"
      ],
      "metadata": {
        "colab": {
          "base_uri": "https://localhost:8080/"
        },
        "id": "Ut_BxO5TFI5J",
        "outputId": "4c1451d6-354d-413f-a490-e867b13f9c02"
      },
      "execution_count": null,
      "outputs": [
        {
          "output_type": "stream",
          "name": "stdout",
          "text": [
            "Overwriting q14.cpp\n"
          ]
        }
      ]
    },
    {
      "cell_type": "code",
      "source": [
        "%%shell\n",
        "\n",
        "g++ q14.cpp -o run.elf\n",
        "./run.elf"
      ],
      "metadata": {
        "colab": {
          "base_uri": "https://localhost:8080/"
        },
        "id": "J24Lgc3bFM36",
        "outputId": "5b46bceb-62de-4ab9-bb29-74ea35f646ea"
      },
      "execution_count": null,
      "outputs": [
        {
          "output_type": "stream",
          "name": "stdout",
          "text": [
            "4.91877\n",
            "4.9188\n",
            "4.919\n",
            "4.92\n",
            "4.9\n",
            "5\n",
            "5\n"
          ]
        },
        {
          "output_type": "execute_result",
          "data": {
            "text/plain": []
          },
          "metadata": {},
          "execution_count": 28
        }
      ]
    },
    {
      "cell_type": "markdown",
      "source": [
        "# Question 15\n"
      ],
      "metadata": {
        "id": "eM9qp9jqG_wK"
      }
    },
    {
      "cell_type": "code",
      "source": [
        "%%writefile q15.cpp\n",
        "\n",
        "#include <iostream>\n",
        "#include <iomanip>\n",
        "\n",
        "using namespace std;\n",
        "\n",
        "int main() {\n",
        "\n",
        "  double day1, day2, day3, total;\n",
        "\n",
        "  cout << \"Enter the sales for day 1: \";\n",
        "  cin >> day1;\n",
        "  cout << \"Enter the sales for day 2: \";\n",
        "  cin >> day2;\n",
        "  cout << \"Enter the sales for day 3: \";\n",
        "  cin >> day3;\n",
        "\n",
        "  total = day1 + day2 + day3;\n",
        "\n",
        "  cout << fixed << setprecision(2);\n",
        "  cout << \"\\nSales Amounts\\n\";\n",
        "  cout << \"--------------\\n\";\n",
        "  cout << \"Day 1: \" << setw(8) << day1 << endl;\n",
        "  cout << \"Day 2: \" << setw(8) << day2 << endl;\n",
        "  cout << \"Day 3: \" << setw(8) << day3 << endl;\n",
        "  cout << \"--------------\\n\";\n",
        "  cout << \"Total: \" << setw(8) << total << endl;\n",
        "\n",
        "}"
      ],
      "metadata": {
        "colab": {
          "base_uri": "https://localhost:8080/"
        },
        "id": "rGQEiTr_HDvm",
        "outputId": "69076bc5-e281-4774-9723-6ec40fb01995"
      },
      "execution_count": null,
      "outputs": [
        {
          "output_type": "stream",
          "name": "stdout",
          "text": [
            "Overwriting q15.cpp\n"
          ]
        }
      ]
    },
    {
      "cell_type": "code",
      "source": [
        "%%shell\n",
        "\n",
        "g++ q15.cpp -o run.elf\n",
        "./run.elf"
      ],
      "metadata": {
        "colab": {
          "base_uri": "https://localhost:8080/"
        },
        "id": "gyPKaJwMHqDd",
        "outputId": "58fc49f9-298a-4fe3-ff7f-c255fffe2770"
      },
      "execution_count": null,
      "outputs": [
        {
          "output_type": "stream",
          "name": "stdout",
          "text": [
            "Enter the sales for day 1: 5\n",
            "Enter the sales for day 2: 4\n",
            "Enter the sales for day 3: 6\n",
            "\n",
            "Sales Amounts\n",
            "--------------\n",
            "Day 1:     5.00\n",
            "Day 2:     4.00\n",
            "Day 3:     6.00\n",
            "--------------\n",
            "Total:    15.00\n"
          ]
        },
        {
          "output_type": "execute_result",
          "data": {
            "text/plain": []
          },
          "metadata": {},
          "execution_count": 34
        }
      ]
    },
    {
      "cell_type": "markdown",
      "source": [
        "# Question 20"
      ],
      "metadata": {
        "id": "LTy-oGjDLR5z"
      }
    },
    {
      "cell_type": "code",
      "source": [
        "%%writefile q20.cpp\n",
        "\n",
        "#include <iostream>\n",
        "#include <cstdlib> //use rand nad srand\n",
        "#include <ctime> // get system time\n",
        "using namespace std;\n",
        "\n",
        "int main() {\n",
        "\n",
        "  unsigned seed = time(0); //use system time as seed because time change every second\n",
        "  srand(seed); //seed the random number generator\n",
        "\n",
        "  cout << rand() << endl;\n",
        "  cout << rand() << endl;\n",
        "  cout << rand() << endl;\n",
        "\n",
        "  //formula to get random number range a to b\n",
        "  //int r = rand() % (b - a + 1) + a;\n",
        "\n",
        "  int r = rand() % (100 - 1 + 1) + 1; //get random number between 1 - 100\n",
        "  cout << r << endl;\n",
        "\n",
        "}"
      ],
      "metadata": {
        "colab": {
          "base_uri": "https://localhost:8080/"
        },
        "id": "TBGUDVMBLZHX",
        "outputId": "9f0f7384-de12-4b83-ad7a-cef2ff008f69"
      },
      "execution_count": null,
      "outputs": [
        {
          "output_type": "stream",
          "name": "stdout",
          "text": [
            "Overwriting q20.cpp\n"
          ]
        }
      ]
    },
    {
      "cell_type": "code",
      "source": [
        "%%shell\n",
        "\n",
        "g++ q20.cpp -o run.elf\n",
        "./run.elf"
      ],
      "metadata": {
        "colab": {
          "base_uri": "https://localhost:8080/"
        },
        "id": "5l0bToGuMHR7",
        "outputId": "1cabdab1-f9ad-4e4c-ce17-6e64dbf82301"
      },
      "execution_count": null,
      "outputs": [
        {
          "output_type": "stream",
          "name": "stdout",
          "text": [
            "741458568\n",
            "80585062\n",
            "519415486\n",
            "83\n"
          ]
        },
        {
          "output_type": "execute_result",
          "data": {
            "text/plain": []
          },
          "metadata": {},
          "execution_count": 53
        }
      ]
    }
  ]
}